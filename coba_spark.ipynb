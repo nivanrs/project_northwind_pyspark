{
 "cells": [
  {
   "cell_type": "code",
   "execution_count": 1,
   "metadata": {},
   "outputs": [],
   "source": [
    "import os\n",
    "os.environ[\"JAVA_HOME\"] = \"C:/Program Files/Java/jdk-19\"\n",
    "os.environ[\"SPARK_HOME\"] = \"C:/spark/spark-3.3.2-bin-hadoop3\""
   ]
  },
  {
   "cell_type": "code",
   "execution_count": 2,
   "metadata": {},
   "outputs": [
    {
     "data": {
      "text/html": [
       "\n",
       "            <div>\n",
       "                <p><b>SparkSession - in-memory</b></p>\n",
       "                \n",
       "        <div>\n",
       "            <p><b>SparkContext</b></p>\n",
       "\n",
       "            <p><a href=\"http://DDBSV-RAIHAN:4040\">Spark UI</a></p>\n",
       "\n",
       "            <dl>\n",
       "              <dt>Version</dt>\n",
       "                <dd><code>v3.3.2</code></dd>\n",
       "              <dt>Master</dt>\n",
       "                <dd><code>local[*]</code></dd>\n",
       "              <dt>AppName</dt>\n",
       "                <dd><code>PySpark</code></dd>\n",
       "            </dl>\n",
       "        </div>\n",
       "        \n",
       "            </div>\n",
       "        "
      ],
      "text/plain": [
       "<pyspark.sql.session.SparkSession at 0x254a115a550>"
      ]
     },
     "execution_count": 2,
     "metadata": {},
     "output_type": "execute_result"
    }
   ],
   "source": [
    "import pyspark \n",
    "from pyspark.sql import SparkSession\n",
    "jdbc_driver_path= \"C:/Users/Sharing Vision/anaconda3/libs/postgresql-42.7.3.jar\"\n",
    "spark = SparkSession.builder.appName(\"PySpark\")\\\n",
    "        .config(\"spark.jars.packages\", \"org.postgresql:postgresql:42.7.3\")\\\n",
    "        .config('spark.dynamicAllocation.enabled', 'false')\\\n",
    "        .config('spark.executor.instances', '8')\\\n",
    "        .config('spark.executor.cores', '6')\\\n",
    "        .config('spark.executor.memory', '12g')\\\n",
    "        .getOrCreate()\n",
    "spark\n",
    "\n",
    "  "
   ]
  },
  {
   "cell_type": "code",
   "execution_count": 3,
   "metadata": {},
   "outputs": [
    {
     "name": "stdout",
     "output_type": "stream",
     "text": [
      "+----------+--------------+--------------------+--------------------+\n",
      "|CATEGORYID|  CATEGORYNAME|         DESCRIPTION|             PICTURE|\n",
      "+----------+--------------+--------------------+--------------------+\n",
      "|         1|     Beverages|Soft drinks coffe...|0x151C2F000200000...|\n",
      "|         2|    Condiments|Sweet and savory ...|0x151C2F000200000...|\n",
      "|         3|   Confections|Desserts candies ...|0x151C2F000200000...|\n",
      "|         4|Dairy Products|             Cheeses|0x151C2F000200000...|\n",
      "|         5|Grains/Cereals|Breads crackers p...|0x151C2F000200000...|\n",
      "|         6|  Meat/Poultry|      Prepared meats|0x151C2F000200000...|\n",
      "|         7|       Produce|Dried fruit and b...|0x151C2F000200000...|\n",
      "|         8|       Seafood|    Seaweed and fish|0x151C2F000200000...|\n",
      "+----------+--------------+--------------------+--------------------+\n",
      "\n"
     ]
    }
   ],
   "source": [
    "\n",
    "#ingest table categories\n",
    "\n",
    "ingest=spark.read.format(\"jdbc\")\\\n",
    "      .option(\"driver\",\"org.postgresql.Driver\")\n",
    " \n",
    "dst_db_ip=\"localhost\"\n",
    "dst_db_port=\"5432\"\n",
    "dst_db_name=\"northwind\"\n",
    "user=\"postgres\"\n",
    "password=\"12345678\"\n",
    "dst_schm_name=\"public\"\n",
    "dst_tbl_name=\"categories\"\n",
    "\n",
    "jdbc_url = f\"jdbc:postgresql://{dst_db_ip}:{dst_db_port}/{dst_db_name}?user={user}&password={password}\" \n",
    "\n",
    "df_categories = spark.read.format(\"jdbc\") \\\n",
    "      .option(\"driver\", \"org.postgresql.Driver\") \\\n",
    "      .option(\"url\", jdbc_url) \\\n",
    "      .option(\"dbtable\", f\"(select * from {dst_schm_name}.{dst_tbl_name}) as tmp\") \\\n",
    "      .load()\n",
    "\n",
    "df_categories.createOrReplaceTempView(\"df_categories\")\n",
    "df_categories.show()\n",
    "\n",
    "\n",
    "# df=ingest\\\n",
    "#   .option(\"url\",\"jdbc:postgresql://{}:{}/{}?user={}&password={}\".format(dst_db_ip,dst_db_port,dst_db_name,user,password))\\\n",
    "#   .option(\"dbtable\",\"(select * from {}.{} ) as tmp\".format(dst_schm_name,dst_tbl_name))\\\n",
    "#   .load()\n"
   ]
  },
  {
   "cell_type": "code",
   "execution_count": 4,
   "metadata": {},
   "outputs": [
    {
     "name": "stdout",
     "output_type": "stream",
     "text": [
      "+-------+---------+---------+--------+--------+\n",
      "|ORDERID|PRODUCTID|UNITPRICE|QUANTITY|DISCOUNT|\n",
      "+-------+---------+---------+--------+--------+\n",
      "|  10248|       11|     14.0|      12|     0.0|\n",
      "|  10248|       42|      9.8|      10|     0.0|\n",
      "|  10248|       72|     34.8|       5|     0.0|\n",
      "|  10249|       14|     18.6|       9|     0.0|\n",
      "|  10249|       51|     42.4|      40|     0.0|\n",
      "|  10250|       41|      7.7|      10|     0.0|\n",
      "|  10250|       51|     42.4|      35|    0.15|\n",
      "|  10250|       65|     16.8|      15|    0.15|\n",
      "|  10251|       22|     16.8|       6|    0.05|\n",
      "|  10251|       57|     15.6|      15|    0.05|\n",
      "|  10251|       65|     16.8|      20|     0.0|\n",
      "|  10252|       20|     64.8|      40|    0.05|\n",
      "|  10252|       33|      2.0|      25|    0.05|\n",
      "|  10252|       60|     27.2|      40|     0.0|\n",
      "|  10253|       31|     10.0|      20|     0.0|\n",
      "|  10253|       39|     14.4|      42|     0.0|\n",
      "|  10253|       49|     16.0|      40|     0.0|\n",
      "|  10254|       24|      3.6|      15|    0.15|\n",
      "|  10254|       55|     19.2|      21|    0.15|\n",
      "|  10254|       74|      8.0|      21|     0.0|\n",
      "+-------+---------+---------+--------+--------+\n",
      "only showing top 20 rows\n",
      "\n"
     ]
    }
   ],
   "source": [
    "#Ingest order_details\n",
    "\n",
    "dst_tbl_name=\"order_details\"\n",
    "df_order_details = spark.read.format(\"jdbc\") \\\n",
    "      .option(\"driver\", \"org.postgresql.Driver\") \\\n",
    "      .option(\"url\", jdbc_url) \\\n",
    "      .option(\"dbtable\", f\"(select * from {dst_schm_name}.{dst_tbl_name}) as tmp\") \\\n",
    "      .load()\n",
    "df_order_details.createOrReplaceTempView(\"df_order_details\")     \n",
    "df_order_details.show()"
   ]
  },
  {
   "cell_type": "code",
   "execution_count": 5,
   "metadata": {},
   "outputs": [
    {
     "name": "stdout",
     "output_type": "stream",
     "text": [
      "+---------+--------------------+----------+----------+--------------------+---------+------------+------------+------------+------------+\n",
      "|PRODUCTID|         PRODUCTNAME|SUPPLIERID|CATEGORYID|     QUANTITYPERUNIT|UNITPRICE|UNITSINSTOCK|UNITSONORDER|REORDERLEVEL|DISCONTINUED|\n",
      "+---------+--------------------+----------+----------+--------------------+---------+------------+------------+------------+------------+\n",
      "|        1|                Chai|         1|         1|  10 boxes x 20 bags|     18.0|          39|           0|          10|           0|\n",
      "|        2|               Chang|         1|         1|  24 - 12 oz bottles|     19.0|          17|          40|          25|           0|\n",
      "|        3|       Aniseed Syrup|         1|         2| 12 - 550 ml bottles|     10.0|          13|          70|          25|           0|\n",
      "|        4|Chef Anton's Caju...|         2|         2|      48 - 6 oz jars|     22.0|          53|           0|           0|           0|\n",
      "|        5|Chef Anton's Gumb...|         2|         2|            36 boxes|    21.35|           0|           0|           0|           1|\n",
      "|        6|Grandma's Boysenb...|         3|         2|      12 - 8 oz jars|     25.0|         120|           0|          25|           0|\n",
      "|        7|Uncle Bob's Organ...|         3|         7|     12 - 1 lb pkgs.|     30.0|          15|           0|          10|           0|\n",
      "|        8|Northwoods Cranbe...|         3|         2|     12 - 12 oz jars|     40.0|           6|           0|           0|           0|\n",
      "|        9|     Mishi Kobe Niku|         4|         6|    18 - 500 g pkgs.|     97.0|          29|           0|           0|           1|\n",
      "|       10|               Ikura|         4|         8|    12 - 200 ml jars|     31.0|          31|           0|           0|           0|\n",
      "|       11|      Queso Cabrales|         5|         4|           1 kg pkg.|     21.0|          22|          30|          30|           0|\n",
      "|       12|Queso Manchego La...|         5|         4|    10 - 500 g pkgs.|     38.0|          86|           0|           0|           0|\n",
      "|       13|               Konbu|         6|         8|            2 kg box|      6.0|          24|           0|           5|           0|\n",
      "|       14|                Tofu|         6|         7|    40 - 100 g pkgs.|    23.25|          35|           0|           0|           0|\n",
      "|       15|        Genen Shouyu|         6|         2| 24 - 250 ml bottles|     15.5|          39|           0|           5|           0|\n",
      "|       16|             Pavlova|         7|         3|    32 - 500 g boxes|    17.45|          29|           0|          10|           0|\n",
      "|       17|        Alice Mutton|         7|         6|      20 - 1 kg tins|     39.0|           0|           0|           0|           1|\n",
      "|       18|    Carnarvon Tigers|         7|         8|          16 kg pkg.|     62.5|          42|           0|           0|           0|\n",
      "|       19|Teatime Chocolate...|         8|         3|10 boxes x 12 pieces|      9.2|          25|           0|           5|           0|\n",
      "|       20|Sir Rodney's Marm...|         8|         3|       30 gift boxes|     81.0|          40|           0|           0|           0|\n",
      "+---------+--------------------+----------+----------+--------------------+---------+------------+------------+------------+------------+\n",
      "only showing top 20 rows\n",
      "\n"
     ]
    }
   ],
   "source": [
    "#Ingest products\n",
    "\n",
    "dst_tbl_name=\"products\"\n",
    "df_products = spark.read.format(\"jdbc\") \\\n",
    "      .option(\"driver\", \"org.postgresql.Driver\") \\\n",
    "      .option(\"url\", jdbc_url) \\\n",
    "      .option(\"dbtable\", f\"(select * from {dst_schm_name}.{dst_tbl_name}) as tmp\") \\\n",
    "      .load()\n",
    "df_products.createOrReplaceTempView(\"df_products\")      \n",
    "df_products.show()"
   ]
  },
  {
   "cell_type": "code",
   "execution_count": 6,
   "metadata": {},
   "outputs": [
    {
     "name": "stdout",
     "output_type": "stream",
     "text": [
      "+-------+----------+----------+----------+------------+-----------+-------+-------+--------------------+--------------------+--------------+----------+--------------+-----------+\n",
      "|ORDERID|CUSTOMERID|EMPLOYEEID| ORDERDATE|REQUIREDDATE|SHIPPEDDATE|SHIPVIA|FREIGHT|            SHIPNAME|         SHIPADDRESS|      SHIPCITY|SHIPREGION|SHIPPOSTALCODE|SHIPCOUNTRY|\n",
      "+-------+----------+----------+----------+------------+-----------+-------+-------+--------------------+--------------------+--------------+----------+--------------+-----------+\n",
      "|  10248|     VINET|         5|1996-07-04|  1996-08-01| 1996-07-16|      3|  32.38|Vins et alcools C...|  59 rue de l'Abbaye|         Reims|      null|         51100|     France|\n",
      "|  10249|     TOMSP|         6|1996-07-05|  1996-08-16| 1996-07-10|      1|  11.61|  Toms Spezialitäten|       Luisenstr. 48|       Münster|      null|         44087|    Germany|\n",
      "|  10250|     HANAR|         4|1996-07-08|  1996-08-05| 1996-07-12|      2|  65.83|       Hanari Carnes|      Rua do Paço 67|Rio de Janeiro|        RJ|     05454-876|     Brazil|\n",
      "|  10251|     VICTE|         3|1996-07-08|  1996-08-05| 1996-07-15|      1|  41.34|Victuailles en stock|   2 rue du Commerce|          Lyon|      null|         69004|     France|\n",
      "|  10252|     SUPRD|         4|1996-07-09|  1996-08-06| 1996-07-11|      2|   51.3|    Suprêmes délices| Boulevard Tirou 255|     Charleroi|      null|        B-6000|    Belgium|\n",
      "|  10253|     HANAR|         3|1996-07-10|  1996-07-24| 1996-07-16|      2|  58.17|       Hanari Carnes|      Rua do Paço 67|Rio de Janeiro|        RJ|     05454-876|     Brazil|\n",
      "|  10254|     CHOPS|         5|1996-07-11|  1996-08-08| 1996-07-23|      2|  22.98|   Chop-suey Chinese|        Hauptstr. 31|          Bern|      null|          3012|Switzerland|\n",
      "|  10255|     RICSU|         9|1996-07-12|  1996-08-09| 1996-07-15|      3| 148.33|  Richter Supermarkt|         Starenweg 5|        Genève|      null|          1204|Switzerland|\n",
      "|  10256|     WELLI|         3|1996-07-15|  1996-08-12| 1996-07-17|      2|  13.97|Wellington Import...|   Rua do Mercado 12|       Resende|        SP|     08737-363|     Brazil|\n",
      "|  10257|     HILAA|         4|1996-07-16|  1996-08-13| 1996-07-22|      3|  81.91|    HILARION-Abastos|Carrera 22 con Av...| San Cristóbal|   Táchira|          5022|  Venezuela|\n",
      "|  10258|     ERNSH|         1|1996-07-17|  1996-08-14| 1996-07-23|      1| 140.51|        Ernst Handel|        Kirchgasse 6|          Graz|      null|          8010|    Austria|\n",
      "|  10259|     CENTC|         4|1996-07-18|  1996-08-15| 1996-07-25|      3|   3.25|Centro comercial ...|Sierras de Granad...|   México D.F.|      null|         05022|     Mexico|\n",
      "|  10260|     OTTIK|         4|1996-07-19|  1996-08-16| 1996-07-29|      1|  55.09|  Ottilies Käseladen|  Mehrheimerstr. 369|          Köln|      null|         50739|    Germany|\n",
      "|  10261|     QUEDE|         4|1996-07-19|  1996-08-16| 1996-07-30|      2|   3.05|         Que Delícia|Rua da Panificado...|Rio de Janeiro|        RJ|     02389-673|     Brazil|\n",
      "|  10262|     RATTC|         8|1996-07-22|  1996-08-19| 1996-07-25|      3|  48.29|Rattlesnake Canyo...|     2817 Milton Dr.|   Albuquerque|        NM|         87110|        USA|\n",
      "|  10263|     ERNSH|         9|1996-07-23|  1996-08-20| 1996-07-31|      3| 146.06|        Ernst Handel|        Kirchgasse 6|          Graz|      null|          8010|    Austria|\n",
      "|  10264|     FOLKO|         6|1996-07-24|  1996-08-21| 1996-08-23|      3|   3.67|      Folk och fä HB|        Åkergatan 24|        Bräcke|      null|      S-844 67|     Sweden|\n",
      "|  10265|     BLONP|         2|1996-07-25|  1996-08-22| 1996-08-12|      1|  55.28|Blondel père et fils|     24 place Kléber|    Strasbourg|      null|         67000|     France|\n",
      "|  10266|     WARTH|         3|1996-07-26|  1996-09-06| 1996-07-31|      3|  25.73|      Wartian Herkku|         Torikatu 38|          Oulu|      null|         90110|    Finland|\n",
      "|  10267|     FRANK|         4|1996-07-29|  1996-08-26| 1996-08-06|      1| 208.58|      Frankenversand|   Berliner Platz 43|       München|      null|         80805|    Germany|\n",
      "+-------+----------+----------+----------+------------+-----------+-------+-------+--------------------+--------------------+--------------+----------+--------------+-----------+\n",
      "only showing top 20 rows\n",
      "\n"
     ]
    }
   ],
   "source": [
    "#Ingest orders\n",
    "\n",
    "dst_tbl_name=\"orders\"\n",
    "df_orders = spark.read.format(\"jdbc\") \\\n",
    "      .option(\"driver\", \"org.postgresql.Driver\") \\\n",
    "      .option(\"url\", jdbc_url) \\\n",
    "      .option(\"dbtable\", f\"(select * from {dst_schm_name}.{dst_tbl_name}) as tmp\") \\\n",
    "      .load()\n",
    "df_orders.createOrReplaceTempView(\"df_orders\")\n",
    "df_orders.show()"
   ]
  },
  {
   "cell_type": "code",
   "execution_count": 7,
   "metadata": {},
   "outputs": [
    {
     "name": "stdout",
     "output_type": "stream",
     "text": [
      "+----------+--------------------+--------------------+--------------------+--------------------+-----------+--------+----------+---------+---------------+---------------+--------------------+\n",
      "|SUPPLIERID|         COMPANYNAME|         CONTACTNAME|        CONTACTTITLE|             ADDRESS|       CITY|  REGION|POSTALCODE|  COUNTRY|          PHONE|            FAX|            HOMEPAGE|\n",
      "+----------+--------------------+--------------------+--------------------+--------------------+-----------+--------+----------+---------+---------------+---------------+--------------------+\n",
      "|         1|      Exotic Liquids|    Charlotte Cooper|  Purchasing Manager|      49 Gilbert St.|     London|    null|   EC1 4SD|       UK| (171) 555-2222|           null|                null|\n",
      "|         2|New Orleans Cajun...|       Shelley Burke| Order Administrator|      P.O. Box 78934|New Orleans|      LA|     70117|      USA| (100) 555-4822|           null|         #CAJUN.HTM#|\n",
      "|         3|Grandma Kelly's H...|       Regina Murphy|Sales Representative|      707 Oxford Rd.|  Ann Arbor|      MI|     48104|      USA| (313) 555-5735| (313) 555-3349|                null|\n",
      "|         4|       Tokyo Traders|        Yoshi Nagase|   Marketing Manager|9-8 Sekimai Musas...|      Tokyo|    null|       100|    Japan| (03) 3555-5011|           null|                null|\n",
      "|         5|Cooperativa de Qu...|Antonio del Valle...|Export Administrator|   Calle del Rosal 4|     Oviedo|Asturias|     33007|    Spain| (98) 598 76 54|           null|                null|\n",
      "|         6|            Mayumi's|         Mayumi Ohno|Marketing Represe...|  92 Setsuko Chuo-ku|      Osaka|    null|       545|    Japan|  (06) 431-7877|           null|Mayumi's (on the ...|\n",
      "|         7|        Pavlova Ltd.|         Ian Devling|   Marketing Manager|74 Rose St. Mooni...|  Melbourne|Victoria|      3058|Australia|  (03) 444-2343|  (03) 444-6588|                null|\n",
      "|         8|Specialty Biscuit...|        Peter Wilson|Sales Representative|       29 King's Way| Manchester|    null|   M14 GSD|       UK| (161) 555-4448|           null|                null|\n",
      "|         9|    PB Knäckebröd AB|       Lars Peterson|         Sales Agent|     Kaloadagatan 13|   Göteborg|    null|  S-345 67|   Sweden|  031-987 65 43|  031-987 65 91|                null|\n",
      "|        10|Refrescos America...|         Carlos Diaz|   Marketing Manager|Av. das Americana...|  Sao Paulo|    null|      5442|   Brazil|  (11) 555 4640|           null|                null|\n",
      "|        11|Heli Süßwaren Gmb...|       Petra Winkler|       Sales Manager|  Tiergartenstraße 5|     Berlin|    null|     10785|  Germany|  (010) 9984510|           null|                null|\n",
      "|        12|Plutzer Lebensmit...|         Martin Bein|International Mar...|       Bogenallee 51|  Frankfurt|    null|     60439|  Germany|   (069) 992755|           null|Plutzer (on the W...|\n",
      "|        13|Nord-Ost-Fisch Ha...|       Sven Petersen|Coordinator Forei...|    Frahmredder 112a|   Cuxhaven|    null|     27478|  Germany|   (04721) 8713|   (04721) 8714|                null|\n",
      "|        14|Formaggi Fortini ...|          Elio Rossi|Sales Representative|      Viale Dante 75|    Ravenna|    null|     48100|    Italy|   (0544) 60323|   (0544) 60603|      #FORMAGGI.HTM#|\n",
      "|        15|     Norske Meierier|        Beate Vileid|   Marketing Manager|        Hatlevegen 5|   Sandvika|    null|      1320|   Norway|    (0)2-953010|           null|                null|\n",
      "|        16|   Bigfoot Breweries|       Cheryl Saylor|Regional Account ...|3400 - 8th Avenue...|       Bend|      OR|     97101|      USA| (503) 555-9931|           null|                null|\n",
      "|        17|   Svensk Sjöföda AB|       Michael Björn|Sales Representative|   Brovallavägen 231|  Stockholm|    null|  S-123 45|   Sweden|   08-123 45 67|           null|                null|\n",
      "|        18|Aux joyeux ecclés...|      Guylène Nodier|       Sales Manager|203 Rue des Franc...|      Paris|    null|     75004|   France|(1) 03.83.00.68|(1) 03.83.00.62|                null|\n",
      "|        19|New England Seafo...|       Robb Merchant|Wholesale Account...|Order Processing ...|     Boston|      MA|      2134|      USA| (617) 555-3267| (617) 555-3389|                null|\n",
      "|        20|        Leka Trading|        Chandra Leka|               Owner|471 Serangoon Loo...|  Singapore|    null|       512|Singapore|       555-8787|           null|                null|\n",
      "+----------+--------------------+--------------------+--------------------+--------------------+-----------+--------+----------+---------+---------------+---------------+--------------------+\n",
      "only showing top 20 rows\n",
      "\n"
     ]
    }
   ],
   "source": [
    "#Ingest suppliers\n",
    "\n",
    "dst_tbl_name=\"suppliers\"\n",
    "df_suppliers = spark.read.format(\"jdbc\") \\\n",
    "      .option(\"driver\", \"org.postgresql.Driver\") \\\n",
    "      .option(\"url\", jdbc_url) \\\n",
    "      .option(\"dbtable\", f\"(select * from {dst_schm_name}.{dst_tbl_name}) as tmp\") \\\n",
    "      .load()\n",
    "df_suppliers.createOrReplaceTempView(\"df_suppliers\")\n",
    "df_suppliers.show()"
   ]
  },
  {
   "cell_type": "code",
   "execution_count": 8,
   "metadata": {},
   "outputs": [
    {
     "name": "stdout",
     "output_type": "stream",
     "text": [
      "+----------+---------+---------+--------------------+---------------+----------+----------+--------------------+--------+------+----------+-------+--------------+---------+--------------------+--------------------+---------+--------------------+\n",
      "|EMPLOYEEID| LASTNAME|FIRSTNAME|               TITLE|TITLEOFCOURTESY| BIRTHDATE|  HIREDATE|             ADDRESS|    CITY|REGION|POSTALCODE|COUNTRY|     HOMEPHONE|EXTENSION|               PHOTO|               NOTES|REPORTSTO|           PHOTOPATH|\n",
      "+----------+---------+---------+--------------------+---------------+----------+----------+--------------------+--------+------+----------+-------+--------------+---------+--------------------+--------------------+---------+--------------------+\n",
      "|         1|  Davolio|    Nancy|Sales Representative|            Ms.|1948-12-08|1992-05-01|507 20th Ave. E. ...| Seattle|    WA|     98122|    USA|(206) 555-9857|     5467|0x151C2F000200000...|Education include...|      2.0|http://accweb/emm...|\n",
      "|         2|   Fuller|   Andrew|Vice President Sales|            Dr.|1952-02-19|1992-08-14|  908 W. Capital Way|  Tacoma|    WA|     98401|    USA|(206) 555-9482|     3457|0x151C2F000200000...|Andrew received h...|     null|http://accweb/emm...|\n",
      "|         3|Leverling|    Janet|Sales Representative|            Ms.|1963-08-30|1992-04-01|  722 Moss Bay Blvd.|Kirkland|    WA|     98033|    USA|(206) 555-3412|     3355|0x151C2F000200000...|Janet has a BS de...|      2.0|http://accweb/emm...|\n",
      "|         4|  Peacock| Margaret|Sales Representative|           Mrs.|1937-09-19|1993-05-03|4110 Old Redmond Rd.| Redmond|    WA|     98052|    USA|(206) 555-8122|     5176|0x151C2F000200000...|Margaret holds a ...|      2.0|http://accweb/emm...|\n",
      "|         5| Buchanan|   Steven|       Sales Manager|            Mr.|1955-03-04|1993-10-17|     14 Garrett Hill|  London|  null|   SW1 8JR|     UK| (71) 555-4848|     3453|0x151C2F000200000...|Steven Buchanan g...|      2.0|http://accweb/emm...|\n",
      "|         6|   Suyama|  Michael|Sales Representative|            Mr.|1963-07-02|1993-10-17|Coventry House Mi...|  London|  null|   EC2 7JR|     UK| (71) 555-7773|      428|0x151C2F000200000...|Michael is a grad...|      5.0|http://accweb/emm...|\n",
      "|         7|     King|   Robert|Sales Representative|            Mr.|1960-05-29|1994-01-02|Edgeham Hollow Wi...|  London|  null|   RG1 9SP|     UK| (71) 555-5598|      465|0x151C2F000200000...|Robert King serve...|      5.0|http://accweb/emm...|\n",
      "|         8| Callahan|    Laura|Inside Sales Coor...|            Ms.|1958-01-09|1994-03-05| 4726 11th Ave. N.E.| Seattle|    WA|     98105|    USA|(206) 555-1189|     2344|0x151C2F000200000...|Laura received a ...|      2.0|http://accweb/emm...|\n",
      "|         9|Dodsworth|     Anne|Sales Representative|            Ms.|1966-01-27|1994-11-15|   7 Houndstooth Rd.|  London|  null|   WG2 7LT|     UK| (71) 555-4444|      452|0x151C2F000200000...|Anne has a BA deg...|      5.0|http://accweb/emm...|\n",
      "+----------+---------+---------+--------------------+---------------+----------+----------+--------------------+--------+------+----------+-------+--------------+---------+--------------------+--------------------+---------+--------------------+\n",
      "\n"
     ]
    }
   ],
   "source": [
    "#Ingest employees\n",
    "\n",
    "dst_tbl_name=\"employees\"\n",
    "df_employees = spark.read.format(\"jdbc\") \\\n",
    "      .option(\"driver\", \"org.postgresql.Driver\") \\\n",
    "      .option(\"url\", jdbc_url) \\\n",
    "      .option(\"dbtable\", f\"(select * from {dst_schm_name}.{dst_tbl_name}) as tmp\") \\\n",
    "      .load()\n",
    "df_employees.createOrReplaceTempView(\"df_employees\")\n",
    "df_employees.show()"
   ]
  },
  {
   "cell_type": "code",
   "execution_count": 9,
   "metadata": {},
   "outputs": [],
   "source": [
    "# Create datamart tables  (employee_revenues)\n",
    "\n",
    "\n",
    "employee_revenues = spark.sql(\"\"\"\n",
    "\n",
    "WITH employee_revenue AS (\n",
    "  SELECT\n",
    "    e.FIRSTNAME || ' ' || e.LASTNAME AS employee_name,\n",
    "    date_format(DATE_TRUNC('month', o.ORDERDATE), 'yyy-MM')  AS month_order,\n",
    "    SUM((od.UNITPRICE - (od.UNITPRICE * od.DISCOUNT)) * od.QUANTITY) AS gross_revenue\n",
    "  FROM\n",
    "    df_order_details od\n",
    "    JOIN df_orders o ON od.ORDERID = o.ORDERID\n",
    "    JOIN df_employees e ON o.EMPLOYEEID = e.EMPLOYEEID\n",
    "  GROUP BY\n",
    "    employee_name, month_order\n",
    "),\n",
    "ranked_employees AS (\n",
    "  SELECT\n",
    "    employee_name,\n",
    "    month_order,\n",
    "    gross_revenue,\n",
    "    ROW_NUMBER() OVER (PARTITION BY month_order ORDER BY gross_revenue DESC) AS rank\n",
    "  FROM\n",
    "    employee_revenue\n",
    ")\n",
    "SELECT\n",
    "  employee_name,\n",
    "  month_order,\n",
    "  gross_revenue\n",
    "FROM\n",
    "  ranked_employees\n",
    "WHERE\n",
    "  rank = 1\n",
    "\n",
    "\"\"\")"
   ]
  },
  {
   "cell_type": "code",
   "execution_count": 10,
   "metadata": {},
   "outputs": [
    {
     "name": "stdout",
     "output_type": "stream",
     "text": [
      "+----------------+-----------+------------------+\n",
      "|   employee_name|month_order|     gross_revenue|\n",
      "+----------------+-----------+------------------+\n",
      "|Margaret Peacock|    1996-07|          11860.45|\n",
      "|  Laura Callahan|    1996-08|            8263.8|\n",
      "|   Nancy Davolio|    1996-09|            6651.0|\n",
      "|Margaret Peacock|    1996-10|          13718.97|\n",
      "|Margaret Peacock|    1996-11|11311.419999999998|\n",
      "| Steven Buchanan|    1996-12|10030.820000000003|\n",
      "|Margaret Peacock|    1997-01|23736.465000000004|\n",
      "|Margaret Peacock|    1997-02|         12121.995|\n",
      "| Janet Leverling|    1997-03|11599.400000000001|\n",
      "|Margaret Peacock|    1997-04|          13475.99|\n",
      "| Janet Leverling|    1997-05|           18049.6|\n",
      "|   Andrew Fuller|    1997-06| 6882.199999999999|\n",
      "|   Nancy Davolio|    1997-07|          19530.93|\n",
      "|Margaret Peacock|    1997-08|          16485.54|\n",
      "|     Robert King|    1997-09|          13249.86|\n",
      "|   Nancy Davolio|    1997-10|          12414.15|\n",
      "| Janet Leverling|    1997-11|          9598.084|\n",
      "| Janet Leverling|    1997-12|         17636.659|\n",
      "| Janet Leverling|    1998-01|        25705.0075|\n",
      "|   Andrew Fuller|    1998-02|          23127.55|\n",
      "+----------------+-----------+------------------+\n",
      "only showing top 20 rows\n",
      "\n"
     ]
    }
   ],
   "source": [
    "#cek bentuk data\n",
    "\n",
    "employee_revenues.show()"
   ]
  },
  {
   "cell_type": "code",
   "execution_count": 11,
   "metadata": {},
   "outputs": [
    {
     "name": "stderr",
     "output_type": "stream",
     "text": [
      "C:\\Users\\Sharing Vision\\AppData\\Roaming\\Python\\Python39\\site-packages\\pandas\\core\\computation\\expressions.py:21: UserWarning: Pandas requires version '2.8.4' or newer of 'numexpr' (version '2.8.3' currently installed).\n",
      "  from pandas.core.computation.check import NUMEXPR_INSTALLED\n",
      "C:\\Users\\Sharing Vision\\AppData\\Roaming\\Python\\Python39\\site-packages\\pandas\\core\\arrays\\masked.py:60: UserWarning: Pandas requires version '1.3.6' or newer of 'bottleneck' (version '1.3.5' currently installed).\n",
      "  from pandas.core import (\n"
     ]
    }
   ],
   "source": [
    "#ubah ke bentuk pandas untuk di upload ke BQ\n",
    "df_datamart_employee_revenues=employee_revenues.toPandas()"
   ]
  },
  {
   "cell_type": "code",
   "execution_count": 12,
   "metadata": {},
   "outputs": [],
   "source": [
    "# Create datamart tables  (category_sales)\n",
    "\n",
    "\n",
    "category_sales = spark.sql(\"\"\"\n",
    "\n",
    "WITH category_sales AS (\n",
    "  SELECT\n",
    "    c.CATEGORYNAME AS category_name,\n",
    "    DATE_FORMAT(DATE_TRUNC('month', o.ORDERDATE), 'yyyy-MM') AS month_order,\n",
    "    SUM(od.QUANTITY) AS total_sold\n",
    "  FROM\n",
    "    df_order_details od\n",
    "    JOIN df_orders o ON od.ORDERID = o.ORDERID\n",
    "    JOIN df_products p ON od.PRODUCTID = p.PRODUCTID\n",
    "    JOIN df_categories c ON p.CATEGORYID = c.CATEGORYID\n",
    "  GROUP BY\n",
    "    category_name, month_order\n",
    "),\n",
    "ranked_categories AS (\n",
    "  SELECT\n",
    "    category_name,\n",
    "    month_order,\n",
    "    total_sold,\n",
    "    ROW_NUMBER() OVER (PARTITION BY month_order ORDER BY total_sold DESC) AS rank\n",
    "  FROM\n",
    "    category_sales\n",
    ")\n",
    "\n",
    "SELECT\n",
    "  category_name,\n",
    "  month_order,\n",
    "  total_sold\n",
    "FROM\n",
    "  ranked_categories\n",
    "WHERE\n",
    "  rank = 1\n",
    "\n",
    "\"\"\")"
   ]
  },
  {
   "cell_type": "code",
   "execution_count": 13,
   "metadata": {},
   "outputs": [
    {
     "name": "stdout",
     "output_type": "stream",
     "text": [
      "+--------------+-----------+----------+\n",
      "| category_name|month_order|total_sold|\n",
      "+--------------+-----------+----------+\n",
      "|Dairy Products|    1996-07|       304|\n",
      "|     Beverages|    1996-08|       347|\n",
      "|     Beverages|    1996-09|       285|\n",
      "|Dairy Products|    1996-10|       367|\n",
      "|Dairy Products|    1996-11|       372|\n",
      "|Dairy Products|    1996-12|       653|\n",
      "|   Confections|    1997-01|       623|\n",
      "|   Confections|    1997-02|       425|\n",
      "|     Beverages|    1997-03|       471|\n",
      "|   Confections|    1997-04|       394|\n",
      "|Dairy Products|    1997-05|       494|\n",
      "|Dairy Products|    1997-06|       405|\n",
      "|Dairy Products|    1997-07|       374|\n",
      "|   Confections|    1997-08|       335|\n",
      "|       Seafood|    1997-09|       630|\n",
      "|     Beverages|    1997-10|       491|\n",
      "|       Seafood|    1997-11|       414|\n",
      "|     Beverages|    1997-12|       498|\n",
      "|       Seafood|    1998-01|       735|\n",
      "|     Beverages|    1998-02|       834|\n",
      "+--------------+-----------+----------+\n",
      "only showing top 20 rows\n",
      "\n"
     ]
    }
   ],
   "source": [
    "#cek bentuk data\n",
    "\n",
    "category_sales.show()"
   ]
  },
  {
   "cell_type": "code",
   "execution_count": 14,
   "metadata": {},
   "outputs": [],
   "source": [
    "#ubah ke bentuk pandas untuk di upload ke BQ\n",
    "df_datamart_category_sales=category_sales.toPandas()"
   ]
  },
  {
   "cell_type": "code",
   "execution_count": 15,
   "metadata": {},
   "outputs": [],
   "source": [
    "# Create datamart tables  (supplier_revenue)\n",
    "\n",
    "\n",
    "supplier_revenue = spark.sql(\"\"\"\n",
    "\n",
    "WITH supplier_revenue AS (\n",
    "  SELECT\n",
    "    s.COMPANYNAME AS company_name,\n",
    "    DATE_FORMAT(DATE_TRUNC('month', o.ORDERDATE), 'yyyy-MM') AS month_order,\n",
    "    SUM((od.UNITPRICE - (od.UNITPRICE * od.DISCOUNT)) * od.QUANTITY) AS gross_revenue\n",
    "  FROM\n",
    "    df_order_details od\n",
    "    JOIN df_orders o ON od.ORDERID = o.ORDERID\n",
    "    JOIN df_products p ON od.PRODUCTID = p.PRODUCTID\n",
    "    JOIN df_suppliers s ON p.SUPPLIERID = s.SUPPLIERID\n",
    "  GROUP BY\n",
    "    company_name, month_order\n",
    ")\n",
    "\n",
    "SELECT\n",
    "  company_name,\n",
    "  month_order,\n",
    "  gross_revenue\n",
    "FROM\n",
    "  supplier_revenue\n",
    "ORDER BY\n",
    "  company_name, month_order\n",
    "\n",
    "\"\"\")"
   ]
  },
  {
   "cell_type": "code",
   "execution_count": 16,
   "metadata": {},
   "outputs": [
    {
     "name": "stdout",
     "output_type": "stream",
     "text": [
      "+--------------------+-----------+-----------------+\n",
      "|        company_name|month_order|    gross_revenue|\n",
      "+--------------------+-----------+-----------------+\n",
      "|Aux joyeux ecclés...|    1996-07|            691.2|\n",
      "|Aux joyeux ecclés...|    1996-09|           1252.8|\n",
      "|Aux joyeux ecclés...|    1996-10|           4062.8|\n",
      "|Aux joyeux ecclés...|    1996-11|         15857.04|\n",
      "|Aux joyeux ecclés...|    1996-12|6568.800000000001|\n",
      "|Aux joyeux ecclés...|    1997-01|         18803.36|\n",
      "|Aux joyeux ecclés...|    1997-02|            374.4|\n",
      "|Aux joyeux ecclés...|    1997-03|           6540.0|\n",
      "|Aux joyeux ecclés...|    1997-04|           4132.5|\n",
      "|Aux joyeux ecclés...|    1997-05|           8853.6|\n",
      "|Aux joyeux ecclés...|    1997-06|            180.0|\n",
      "|Aux joyeux ecclés...|    1997-07|         3844.875|\n",
      "|Aux joyeux ecclés...|    1997-08|            643.5|\n",
      "|Aux joyeux ecclés...|    1997-09|          3924.45|\n",
      "|Aux joyeux ecclés...|    1997-12|           6377.1|\n",
      "|Aux joyeux ecclés...|    1998-01|         19075.75|\n",
      "|Aux joyeux ecclés...|    1998-02|          27859.9|\n",
      "|Aux joyeux ecclés...|    1998-03|          17667.5|\n",
      "|Aux joyeux ecclés...|    1998-04|           6587.5|\n",
      "|Aux joyeux ecclés...|    1998-05|            394.2|\n",
      "+--------------------+-----------+-----------------+\n",
      "only showing top 20 rows\n",
      "\n"
     ]
    }
   ],
   "source": [
    "#cek bentuk data\n",
    "\n",
    "supplier_revenue.show()"
   ]
  },
  {
   "cell_type": "code",
   "execution_count": 17,
   "metadata": {},
   "outputs": [],
   "source": [
    "#ubah ke bentuk pandas untuk di upload ke BQ\n",
    "df_datamart_supplier_revenue=supplier_revenue.toPandas()"
   ]
  },
  {
   "cell_type": "code",
   "execution_count": 18,
   "metadata": {},
   "outputs": [],
   "source": [
    "\n",
    "from google.cloud import bigquery\n",
    "import os\n",
    "os.environ['GOOGLE_APPLICATION_CREDENTIALS'] = \"./bridgtl-bgd-d-prj-bigdata-e3ffa0f77953.json\"\n",
    "client = bigquery.Client()"
   ]
  },
  {
   "cell_type": "code",
   "execution_count": null,
   "metadata": {},
   "outputs": [],
   "source": [
    "# # Upload supplier_revenue to Bigquery\n",
    "# # TABEL TUJUAN DI GCP\n",
    "# table_id = \"isi_nama_project.isi_nama_schema.supplier_revenue\"\n",
    "\n",
    "# client = bigquery.Client()\n",
    "\n",
    "# job_config = bigquery.LoadJobConfig(\n",
    "# source_format=bigquery.SourceFormat.CSV, autodetect=False,write_disposition = \"WRITE_TRUNCATE\") # bisa truncate bisa append\n",
    "\n",
    "# job = client.load_table_from_dataframe(\n",
    "# df_datamart_supplier_revenue, table_id, job_config=job_config)\n",
    "# job.result()"
   ]
  },
  {
   "cell_type": "code",
   "execution_count": null,
   "metadata": {},
   "outputs": [],
   "source": [
    "# Upload category_sales to Bigquery\n",
    "# TABEL TUJUAN DI GCP\n",
    "table_id = \"isi_nama_project.isi_nama_schema.category_sales\"\n",
    "\n",
    "client = bigquery.Client()\n",
    "\n",
    "job_config = bigquery.LoadJobConfig(\n",
    "source_format=bigquery.SourceFormat.CSV, autodetect=False,write_disposition = \"WRITE_TRUNCATE\") # bisa truncate bisa append\n",
    "\n",
    "job = client.load_table_from_dataframe(\n",
    "df_datamart_category_sales, table_id, job_config=job_config)\n",
    "job.result()"
   ]
  },
  {
   "cell_type": "code",
   "execution_count": null,
   "metadata": {},
   "outputs": [],
   "source": [
    "# # Upload employee_revenues to Bigquery\n",
    "# # TABEL TUJUAN DI GCP\n",
    "# table_id = \"isi_nama_project.isi_nama_schema.employee_revenues\"\n",
    "\n",
    "# client = bigquery.Client()\n",
    "\n",
    "# job_config = bigquery.LoadJobConfig(\n",
    "# source_format=bigquery.SourceFormat.CSV, autodetect=False,write_disposition = \"WRITE_TRUNCATE\") # bisa truncate bisa append\n",
    "\n",
    "# job = client.load_table_from_dataframe(\n",
    "# df_datamart_employee_revenues, table_id, job_config=job_config)\n",
    "# job.result()"
   ]
  }
 ],
 "metadata": {
  "kernelspec": {
   "display_name": "Python 3",
   "language": "python",
   "name": "python3"
  },
  "language_info": {
   "codemirror_mode": {
    "name": "ipython",
    "version": 3
   },
   "file_extension": ".py",
   "mimetype": "text/x-python",
   "name": "python",
   "nbconvert_exporter": "python",
   "pygments_lexer": "ipython3",
   "version": "3.9.13"
  }
 },
 "nbformat": 4,
 "nbformat_minor": 2
}
